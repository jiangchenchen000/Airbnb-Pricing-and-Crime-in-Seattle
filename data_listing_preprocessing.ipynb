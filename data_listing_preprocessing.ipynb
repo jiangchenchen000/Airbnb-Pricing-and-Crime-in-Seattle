{
 "cells": [
  {
   "cell_type": "code",
   "execution_count": 14,
   "id": "9b476014-2171-4d94-9ed4-7716b3c1afc5",
   "metadata": {},
   "outputs": [],
   "source": [
    "import numpy as np \n",
    "import pandas as pd\n",
    "from sklearn.impute import SimpleImputer\n",
    "from sklearn.preprocessing import StandardScaler, LabelEncoder\n",
    "from sklearn.model_selection import train_test_split"
   ]
  },
  {
   "cell_type": "code",
   "execution_count": 4,
   "id": "9319816d-012a-4b64-9b24-b91275cf8d35",
   "metadata": {},
   "outputs": [],
   "source": [
    "df_listing= pd.read_csv('listings.csv')"
   ]
  },
  {
   "cell_type": "code",
   "execution_count": 9,
   "id": "8fe2421e-ce21-4351-9a09-dff2967a867e",
   "metadata": {
    "scrolled": true
   },
   "outputs": [
    {
     "name": "stdout",
     "output_type": "stream",
     "text": [
      "<class 'pandas.core.frame.DataFrame'>\n",
      "RangeIndex: 6882 entries, 0 to 6881\n",
      "Data columns (total 8 columns):\n",
      " #   Column            Non-Null Count  Dtype  \n",
      "---  ------            --------------  -----  \n",
      " 0   id                6882 non-null   int64  \n",
      " 1   name              6882 non-null   object \n",
      " 2   neighbourhood     6882 non-null   object \n",
      " 3   latitude          6882 non-null   float64\n",
      " 4   longitude         6882 non-null   float64\n",
      " 5   room_type         6882 non-null   object \n",
      " 6   price             6504 non-null   float64\n",
      " 7   availability_365  6882 non-null   int64  \n",
      "dtypes: float64(3), int64(2), object(3)\n",
      "memory usage: 430.3+ KB\n"
     ]
    }
   ],
   "source": [
    "df_listing.info()"
   ]
  },
  {
   "cell_type": "code",
   "execution_count": 8,
   "id": "5972aed1-491c-4b2d-99f0-9afd939bfbcc",
   "metadata": {},
   "outputs": [],
   "source": [
    "# drop useless column\n",
    "columns_to_drop = ['host_id', 'host_name', 'neighbourhood_group', 'minimum_nights',\n",
    "                   'number_of_reviews', 'last_review', 'reviews_per_month',\n",
    "                   'calculated_host_listings_count', 'number_of_reviews_ltm', 'license']\n",
    "\n",
    "df_listing.drop(columns=columns_to_drop, axis=1, inplace=True)\n"
   ]
  },
  {
   "cell_type": "code",
   "execution_count": 11,
   "id": "9ec644bc-8d7c-4cae-9b80-9fbe6739d9bf",
   "metadata": {},
   "outputs": [],
   "source": [
    "# Keep the necessary columns\n",
    "df_listing_filtered = df_listing\n",
    "# Counting the NaN values in each column\n",
    "na_counts = df_listing_filtered.isna().sum()"
   ]
  },
  {
   "cell_type": "code",
   "execution_count": 12,
   "id": "d9fa18e8-2348-4428-92ec-268cc4a30a1d",
   "metadata": {},
   "outputs": [
    {
     "data": {
      "text/plain": [
       "id                    0\n",
       "name                  0\n",
       "neighbourhood         0\n",
       "latitude              0\n",
       "longitude             0\n",
       "room_type             0\n",
       "price               378\n",
       "availability_365      0\n",
       "dtype: int64"
      ]
     },
     "execution_count": 12,
     "metadata": {},
     "output_type": "execute_result"
    }
   ],
   "source": [
    "na_counts"
   ]
  },
  {
   "cell_type": "code",
   "execution_count": 15,
   "id": "9f99ef49-9e83-4051-9d72-2fcb8ed0a404",
   "metadata": {},
   "outputs": [],
   "source": [
    "# 1. 处理缺失值\n",
    "imputer = SimpleImputer(strategy='mean')\n",
    "df_listing['price'] = imputer.fit_transform(df_listing[['price']])\n",
    "\n",
    "# 2. 处理重复值\n",
    "df_listing.drop_duplicates(inplace=True)\n",
    "\n",
    "\n",
    "# 5. 特征标准化或归一化\n",
    "scaler = StandardScaler()\n",
    "df_listing[['latitude', 'longitude', 'availability_365']] = scaler.fit_transform(df_listing[['latitude', 'longitude', 'availability_365']])\n",
    "\n"
   ]
  }
 ],
 "metadata": {
  "kernelspec": {
   "display_name": "Python 3 (ipykernel)",
   "language": "python",
   "name": "python3"
  },
  "language_info": {
   "codemirror_mode": {
    "name": "ipython",
    "version": 3
   },
   "file_extension": ".py",
   "mimetype": "text/x-python",
   "name": "python",
   "nbconvert_exporter": "python",
   "pygments_lexer": "ipython3",
   "version": "3.11.5"
  }
 },
 "nbformat": 4,
 "nbformat_minor": 5
}
