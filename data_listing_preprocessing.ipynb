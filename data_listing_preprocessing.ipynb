{
 "cells": [
  {
   "cell_type": "code",
   "execution_count": 90,
   "id": "9b476014-2171-4d94-9ed4-7716b3c1afc5",
   "metadata": {},
   "outputs": [],
   "source": [
    "import numpy as np \n",
    "import pandas as pd\n",
    "from sklearn.impute import SimpleImputer\n",
    "from sklearn.preprocessing import StandardScaler, LabelEncoder\n",
    "from sklearn.model_selection import train_test_split\n",
    "from sklearn.linear_model import LinearRegression\n",
    "from sklearn.ensemble import RandomForestRegressor\n",
    "from sklearn.metrics import mean_squared_error, mean_absolute_error, mean_squared_log_error, r2_score\n",
    "from sklearn.ensemble import GradientBoostingRegressor"
   ]
  },
  {
   "cell_type": "code",
   "execution_count": 73,
   "id": "9319816d-012a-4b64-9b24-b91275cf8d35",
   "metadata": {},
   "outputs": [],
   "source": [
    "df_listing= pd.read_csv('listings.csv')"
   ]
  },
  {
   "cell_type": "code",
   "execution_count": 74,
   "id": "8fe2421e-ce21-4351-9a09-dff2967a867e",
   "metadata": {
    "scrolled": true
   },
   "outputs": [
    {
     "name": "stdout",
     "output_type": "stream",
     "text": [
      "<class 'pandas.core.frame.DataFrame'>\n",
      "RangeIndex: 6882 entries, 0 to 6881\n",
      "Data columns (total 18 columns):\n",
      " #   Column                          Non-Null Count  Dtype  \n",
      "---  ------                          --------------  -----  \n",
      " 0   id                              6882 non-null   int64  \n",
      " 1   name                            6882 non-null   object \n",
      " 2   host_id                         6882 non-null   int64  \n",
      " 3   host_name                       6882 non-null   object \n",
      " 4   neighbourhood_group             6882 non-null   object \n",
      " 5   neighbourhood                   6882 non-null   object \n",
      " 6   latitude                        6882 non-null   float64\n",
      " 7   longitude                       6882 non-null   float64\n",
      " 8   room_type                       6882 non-null   object \n",
      " 9   price                           6504 non-null   float64\n",
      " 10  minimum_nights                  6882 non-null   int64  \n",
      " 11  number_of_reviews               6882 non-null   int64  \n",
      " 12  last_review                     5809 non-null   object \n",
      " 13  reviews_per_month               5809 non-null   float64\n",
      " 14  calculated_host_listings_count  6882 non-null   int64  \n",
      " 15  availability_365                6882 non-null   int64  \n",
      " 16  number_of_reviews_ltm           6882 non-null   int64  \n",
      " 17  license                         5462 non-null   object \n",
      "dtypes: float64(4), int64(7), object(7)\n",
      "memory usage: 967.9+ KB\n"
     ]
    }
   ],
   "source": [
    "df_listing.info()"
   ]
  },
  {
   "cell_type": "code",
   "execution_count": 75,
   "id": "5972aed1-491c-4b2d-99f0-9afd939bfbcc",
   "metadata": {},
   "outputs": [],
   "source": [
    "# drop useless column\n",
    "columns_to_drop = ['host_id', 'host_name', 'neighbourhood_group', 'minimum_nights',\n",
    "                   'number_of_reviews', 'last_review', 'reviews_per_month',\n",
    "                   'calculated_host_listings_count', 'number_of_reviews_ltm', 'license']\n",
    "\n",
    "df_listing.drop(columns=columns_to_drop, axis=1, inplace=True)\n"
   ]
  },
  {
   "cell_type": "code",
   "execution_count": 76,
   "id": "9ec644bc-8d7c-4cae-9b80-9fbe6739d9bf",
   "metadata": {},
   "outputs": [],
   "source": [
    "# Keep the necessary columns\n",
    "df_listing_filtered = df_listing\n",
    "# Counting the NaN values in each column\n",
    "na_counts = df_listing_filtered.isna().sum()"
   ]
  },
  {
   "cell_type": "code",
   "execution_count": 77,
   "id": "d9fa18e8-2348-4428-92ec-268cc4a30a1d",
   "metadata": {},
   "outputs": [
    {
     "data": {
      "text/plain": [
       "id                    0\n",
       "name                  0\n",
       "neighbourhood         0\n",
       "latitude              0\n",
       "longitude             0\n",
       "room_type             0\n",
       "price               378\n",
       "availability_365      0\n",
       "dtype: int64"
      ]
     },
     "execution_count": 77,
     "metadata": {},
     "output_type": "execute_result"
    }
   ],
   "source": [
    "na_counts"
   ]
  },
  {
   "cell_type": "code",
   "execution_count": 78,
   "id": "9f99ef49-9e83-4051-9d72-2fcb8ed0a404",
   "metadata": {},
   "outputs": [],
   "source": [
    "# Handling missing values\n",
    "imputer = SimpleImputer(strategy='mean')\n",
    "df_listing['price'] = imputer.fit_transform(df_listing[['price']])\n",
    "\n",
    "# Handling duplicate\n",
    "df_listing.drop_duplicates(inplace=True)\n",
    "\n",
    "# Feature standardization or normalization\n",
    "scaler = StandardScaler()\n",
    "df_listing[['latitude', 'longitude', 'availability_365']] = scaler.fit_transform(df_listing[['latitude', 'longitude', 'availability_365']])"
   ]
  },
  {
   "cell_type": "code",
   "execution_count": 79,
   "id": "02bcdb30",
   "metadata": {},
   "outputs": [
    {
     "data": {
      "text/html": [
       "<div>\n",
       "<style scoped>\n",
       "    .dataframe tbody tr th:only-of-type {\n",
       "        vertical-align: middle;\n",
       "    }\n",
       "\n",
       "    .dataframe tbody tr th {\n",
       "        vertical-align: top;\n",
       "    }\n",
       "\n",
       "    .dataframe thead th {\n",
       "        text-align: right;\n",
       "    }\n",
       "</style>\n",
       "<table border=\"1\" class=\"dataframe\">\n",
       "  <thead>\n",
       "    <tr style=\"text-align: right;\">\n",
       "      <th></th>\n",
       "      <th>id</th>\n",
       "      <th>name</th>\n",
       "      <th>neighbourhood</th>\n",
       "      <th>latitude</th>\n",
       "      <th>longitude</th>\n",
       "      <th>room_type</th>\n",
       "      <th>price</th>\n",
       "      <th>availability_365</th>\n",
       "    </tr>\n",
       "  </thead>\n",
       "  <tbody>\n",
       "    <tr>\n",
       "      <th>0</th>\n",
       "      <td>6606</td>\n",
       "      <td>Guesthouse in Seattle · ★4.60 · 1 bedroom · 1 ...</td>\n",
       "      <td>Wallingford</td>\n",
       "      <td>0.565246</td>\n",
       "      <td>-0.062390</td>\n",
       "      <td>Entire home/apt</td>\n",
       "      <td>99.00000</td>\n",
       "      <td>0.016391</td>\n",
       "    </tr>\n",
       "    <tr>\n",
       "      <th>1</th>\n",
       "      <td>9419</td>\n",
       "      <td>Rental unit in Seattle · ★4.72 · 1 bedroom · 1...</td>\n",
       "      <td>Georgetown</td>\n",
       "      <td>-1.548414</td>\n",
       "      <td>0.447394</td>\n",
       "      <td>Private room</td>\n",
       "      <td>67.00000</td>\n",
       "      <td>1.374321</td>\n",
       "    </tr>\n",
       "    <tr>\n",
       "      <th>2</th>\n",
       "      <td>9531</td>\n",
       "      <td>Home in Seattle · ★4.97 · 2 bedrooms · 3 beds ...</td>\n",
       "      <td>Fairmount Park</td>\n",
       "      <td>-1.451519</td>\n",
       "      <td>-1.579091</td>\n",
       "      <td>Entire home/apt</td>\n",
       "      <td>184.00000</td>\n",
       "      <td>1.185518</td>\n",
       "    </tr>\n",
       "    <tr>\n",
       "      <th>3</th>\n",
       "      <td>9534</td>\n",
       "      <td>Guest suite in Seattle · ★4.99 · 2 bedrooms · ...</td>\n",
       "      <td>Fairmount Park</td>\n",
       "      <td>-1.424761</td>\n",
       "      <td>-1.562219</td>\n",
       "      <td>Entire home/apt</td>\n",
       "      <td>155.00000</td>\n",
       "      <td>-0.499187</td>\n",
       "    </tr>\n",
       "    <tr>\n",
       "      <th>4</th>\n",
       "      <td>9596</td>\n",
       "      <td>Rental unit in Seattle · ★4.56 · 1 bedroom · 4...</td>\n",
       "      <td>Wallingford</td>\n",
       "      <td>0.598491</td>\n",
       "      <td>-0.054256</td>\n",
       "      <td>Entire home/apt</td>\n",
       "      <td>174.15821</td>\n",
       "      <td>-1.268922</td>\n",
       "    </tr>\n",
       "  </tbody>\n",
       "</table>\n",
       "</div>"
      ],
      "text/plain": [
       "     id                                               name   neighbourhood  \\\n",
       "0  6606  Guesthouse in Seattle · ★4.60 · 1 bedroom · 1 ...     Wallingford   \n",
       "1  9419  Rental unit in Seattle · ★4.72 · 1 bedroom · 1...      Georgetown   \n",
       "2  9531  Home in Seattle · ★4.97 · 2 bedrooms · 3 beds ...  Fairmount Park   \n",
       "3  9534  Guest suite in Seattle · ★4.99 · 2 bedrooms · ...  Fairmount Park   \n",
       "4  9596  Rental unit in Seattle · ★4.56 · 1 bedroom · 4...     Wallingford   \n",
       "\n",
       "   latitude  longitude        room_type      price  availability_365  \n",
       "0  0.565246  -0.062390  Entire home/apt   99.00000          0.016391  \n",
       "1 -1.548414   0.447394     Private room   67.00000          1.374321  \n",
       "2 -1.451519  -1.579091  Entire home/apt  184.00000          1.185518  \n",
       "3 -1.424761  -1.562219  Entire home/apt  155.00000         -0.499187  \n",
       "4  0.598491  -0.054256  Entire home/apt  174.15821         -1.268922  "
      ]
     },
     "execution_count": 79,
     "metadata": {},
     "output_type": "execute_result"
    }
   ],
   "source": [
    "df_listing.head()"
   ]
  }
 ],
 "metadata": {
  "kernelspec": {
   "display_name": "Python 3 (ipykernel)",
   "language": "python",
   "name": "python3"
  },
  "language_info": {
   "codemirror_mode": {
    "name": "ipython",
    "version": 3
   },
   "file_extension": ".py",
   "mimetype": "text/x-python",
   "name": "python",
   "nbconvert_exporter": "python",
   "pygments_lexer": "ipython3",
   "version": "3.11.5"
  }
 },
 "nbformat": 4,
 "nbformat_minor": 5
}
